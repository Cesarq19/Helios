{
  "nbformat": 4,
  "nbformat_minor": 0,
  "metadata": {
    "colab": {
      "provenance": [],
      "collapsed_sections": []
    },
    "kernelspec": {
      "name": "python3",
      "display_name": "Python 3"
    },
    "language_info": {
      "name": "python"
    }
  },
  "cells": [
    {
      "cell_type": "markdown",
      "source": [
        "**GETTING THE DATA**\n"
      ],
      "metadata": {
        "id": "g4OuVih32jjy"
      }
    },
    {
      "cell_type": "code",
      "execution_count": null,
      "metadata": {
        "id": "w6JsZMbzX3NH"
      },
      "outputs": [],
      "source": [
        "import json\n",
        "import requests\n",
        "import pandas as pd\n",
        "\n",
        "resp = requests.get('https://services.swpc.noaa.gov/products/solar-wind/plasma-1-day.json')\n",
        "datos=json.loads(resp.content)\n",
        "datos\n",
        "resp2 = requests.get('https://services.swpc.noaa.gov/products/solar-wind/mag-1-day.json')\n",
        "datos_posicion=json.loads(resp2.content)\n",
        "datos_posicion\n",
        "\n",
        "req_Kp = requests.get('https://www-app3.gfz-potsdam.de/kp_index/Kp_ap_nowcast.txt')\n"
      ]
    },
    {
      "cell_type": "code",
      "source": [],
      "metadata": {
        "id": "R0jGeUU9UD4m"
      },
      "execution_count": null,
      "outputs": []
    },
    {
      "cell_type": "code",
      "source": [
        "df_temperatura= pd.DataFrame(datos)\n",
        "df_temperatura.columns=df_temperatura.iloc[0].values\n",
        "df_temperatura=df_temperatura.drop(df_temperatura.index[0])"
      ],
      "metadata": {
        "id": "qgNO1pWmfq8X"
      },
      "execution_count": null,
      "outputs": []
    },
    {
      "cell_type": "code",
      "source": [
        "df_temperatura"
      ],
      "metadata": {
        "colab": {
          "base_uri": "https://localhost:8080/",
          "height": 424
        },
        "id": "Q-DIf7h6k5II",
        "outputId": "62ad5be8-27b2-4ee9-839e-3980e783d23d"
      },
      "execution_count": null,
      "outputs": [
        {
          "output_type": "execute_result",
          "data": {
            "text/plain": [
              "                     time_tag density  speed temperature\n",
              "1     2022-10-01 14:47:00.000    0.22  456.1      336261\n",
              "2     2022-10-01 14:48:00.000    0.20  440.6      164313\n",
              "3     2022-10-01 14:49:00.000    0.24  408.2      156674\n",
              "4     2022-10-01 14:50:00.000    0.19  465.8      359490\n",
              "5     2022-10-01 14:51:00.000    0.15  473.1      313751\n",
              "...                       ...     ...    ...         ...\n",
              "1385  2022-10-02 14:40:00.000    1.41  449.4      189943\n",
              "1386  2022-10-02 14:41:00.000    1.33  451.1      205498\n",
              "1387  2022-10-02 14:42:00.000    1.35  447.6      241105\n",
              "1388  2022-10-02 14:43:00.000    1.27  440.6      199189\n",
              "1389  2022-10-02 14:44:00.000    1.25  436.7      171484\n",
              "\n",
              "[1389 rows x 4 columns]"
            ],
            "text/html": [
              "\n",
              "  <div id=\"df-63b24c97-a754-455e-a8cd-ecd5db1d97f0\">\n",
              "    <div class=\"colab-df-container\">\n",
              "      <div>\n",
              "<style scoped>\n",
              "    .dataframe tbody tr th:only-of-type {\n",
              "        vertical-align: middle;\n",
              "    }\n",
              "\n",
              "    .dataframe tbody tr th {\n",
              "        vertical-align: top;\n",
              "    }\n",
              "\n",
              "    .dataframe thead th {\n",
              "        text-align: right;\n",
              "    }\n",
              "</style>\n",
              "<table border=\"1\" class=\"dataframe\">\n",
              "  <thead>\n",
              "    <tr style=\"text-align: right;\">\n",
              "      <th></th>\n",
              "      <th>time_tag</th>\n",
              "      <th>density</th>\n",
              "      <th>speed</th>\n",
              "      <th>temperature</th>\n",
              "    </tr>\n",
              "  </thead>\n",
              "  <tbody>\n",
              "    <tr>\n",
              "      <th>1</th>\n",
              "      <td>2022-10-01 14:47:00.000</td>\n",
              "      <td>0.22</td>\n",
              "      <td>456.1</td>\n",
              "      <td>336261</td>\n",
              "    </tr>\n",
              "    <tr>\n",
              "      <th>2</th>\n",
              "      <td>2022-10-01 14:48:00.000</td>\n",
              "      <td>0.20</td>\n",
              "      <td>440.6</td>\n",
              "      <td>164313</td>\n",
              "    </tr>\n",
              "    <tr>\n",
              "      <th>3</th>\n",
              "      <td>2022-10-01 14:49:00.000</td>\n",
              "      <td>0.24</td>\n",
              "      <td>408.2</td>\n",
              "      <td>156674</td>\n",
              "    </tr>\n",
              "    <tr>\n",
              "      <th>4</th>\n",
              "      <td>2022-10-01 14:50:00.000</td>\n",
              "      <td>0.19</td>\n",
              "      <td>465.8</td>\n",
              "      <td>359490</td>\n",
              "    </tr>\n",
              "    <tr>\n",
              "      <th>5</th>\n",
              "      <td>2022-10-01 14:51:00.000</td>\n",
              "      <td>0.15</td>\n",
              "      <td>473.1</td>\n",
              "      <td>313751</td>\n",
              "    </tr>\n",
              "    <tr>\n",
              "      <th>...</th>\n",
              "      <td>...</td>\n",
              "      <td>...</td>\n",
              "      <td>...</td>\n",
              "      <td>...</td>\n",
              "    </tr>\n",
              "    <tr>\n",
              "      <th>1385</th>\n",
              "      <td>2022-10-02 14:40:00.000</td>\n",
              "      <td>1.41</td>\n",
              "      <td>449.4</td>\n",
              "      <td>189943</td>\n",
              "    </tr>\n",
              "    <tr>\n",
              "      <th>1386</th>\n",
              "      <td>2022-10-02 14:41:00.000</td>\n",
              "      <td>1.33</td>\n",
              "      <td>451.1</td>\n",
              "      <td>205498</td>\n",
              "    </tr>\n",
              "    <tr>\n",
              "      <th>1387</th>\n",
              "      <td>2022-10-02 14:42:00.000</td>\n",
              "      <td>1.35</td>\n",
              "      <td>447.6</td>\n",
              "      <td>241105</td>\n",
              "    </tr>\n",
              "    <tr>\n",
              "      <th>1388</th>\n",
              "      <td>2022-10-02 14:43:00.000</td>\n",
              "      <td>1.27</td>\n",
              "      <td>440.6</td>\n",
              "      <td>199189</td>\n",
              "    </tr>\n",
              "    <tr>\n",
              "      <th>1389</th>\n",
              "      <td>2022-10-02 14:44:00.000</td>\n",
              "      <td>1.25</td>\n",
              "      <td>436.7</td>\n",
              "      <td>171484</td>\n",
              "    </tr>\n",
              "  </tbody>\n",
              "</table>\n",
              "<p>1389 rows × 4 columns</p>\n",
              "</div>\n",
              "      <button class=\"colab-df-convert\" onclick=\"convertToInteractive('df-63b24c97-a754-455e-a8cd-ecd5db1d97f0')\"\n",
              "              title=\"Convert this dataframe to an interactive table.\"\n",
              "              style=\"display:none;\">\n",
              "        \n",
              "  <svg xmlns=\"http://www.w3.org/2000/svg\" height=\"24px\"viewBox=\"0 0 24 24\"\n",
              "       width=\"24px\">\n",
              "    <path d=\"M0 0h24v24H0V0z\" fill=\"none\"/>\n",
              "    <path d=\"M18.56 5.44l.94 2.06.94-2.06 2.06-.94-2.06-.94-.94-2.06-.94 2.06-2.06.94zm-11 1L8.5 8.5l.94-2.06 2.06-.94-2.06-.94L8.5 2.5l-.94 2.06-2.06.94zm10 10l.94 2.06.94-2.06 2.06-.94-2.06-.94-.94-2.06-.94 2.06-2.06.94z\"/><path d=\"M17.41 7.96l-1.37-1.37c-.4-.4-.92-.59-1.43-.59-.52 0-1.04.2-1.43.59L10.3 9.45l-7.72 7.72c-.78.78-.78 2.05 0 2.83L4 21.41c.39.39.9.59 1.41.59.51 0 1.02-.2 1.41-.59l7.78-7.78 2.81-2.81c.8-.78.8-2.07 0-2.86zM5.41 20L4 18.59l7.72-7.72 1.47 1.35L5.41 20z\"/>\n",
              "  </svg>\n",
              "      </button>\n",
              "      \n",
              "  <style>\n",
              "    .colab-df-container {\n",
              "      display:flex;\n",
              "      flex-wrap:wrap;\n",
              "      gap: 12px;\n",
              "    }\n",
              "\n",
              "    .colab-df-convert {\n",
              "      background-color: #E8F0FE;\n",
              "      border: none;\n",
              "      border-radius: 50%;\n",
              "      cursor: pointer;\n",
              "      display: none;\n",
              "      fill: #1967D2;\n",
              "      height: 32px;\n",
              "      padding: 0 0 0 0;\n",
              "      width: 32px;\n",
              "    }\n",
              "\n",
              "    .colab-df-convert:hover {\n",
              "      background-color: #E2EBFA;\n",
              "      box-shadow: 0px 1px 2px rgba(60, 64, 67, 0.3), 0px 1px 3px 1px rgba(60, 64, 67, 0.15);\n",
              "      fill: #174EA6;\n",
              "    }\n",
              "\n",
              "    [theme=dark] .colab-df-convert {\n",
              "      background-color: #3B4455;\n",
              "      fill: #D2E3FC;\n",
              "    }\n",
              "\n",
              "    [theme=dark] .colab-df-convert:hover {\n",
              "      background-color: #434B5C;\n",
              "      box-shadow: 0px 1px 3px 1px rgba(0, 0, 0, 0.15);\n",
              "      filter: drop-shadow(0px 1px 2px rgba(0, 0, 0, 0.3));\n",
              "      fill: #FFFFFF;\n",
              "    }\n",
              "  </style>\n",
              "\n",
              "      <script>\n",
              "        const buttonEl =\n",
              "          document.querySelector('#df-63b24c97-a754-455e-a8cd-ecd5db1d97f0 button.colab-df-convert');\n",
              "        buttonEl.style.display =\n",
              "          google.colab.kernel.accessAllowed ? 'block' : 'none';\n",
              "\n",
              "        async function convertToInteractive(key) {\n",
              "          const element = document.querySelector('#df-63b24c97-a754-455e-a8cd-ecd5db1d97f0');\n",
              "          const dataTable =\n",
              "            await google.colab.kernel.invokeFunction('convertToInteractive',\n",
              "                                                     [key], {});\n",
              "          if (!dataTable) return;\n",
              "\n",
              "          const docLinkHtml = 'Like what you see? Visit the ' +\n",
              "            '<a target=\"_blank\" href=https://colab.research.google.com/notebooks/data_table.ipynb>data table notebook</a>'\n",
              "            + ' to learn more about interactive tables.';\n",
              "          element.innerHTML = '';\n",
              "          dataTable['output_type'] = 'display_data';\n",
              "          await google.colab.output.renderOutput(dataTable, element);\n",
              "          const docLink = document.createElement('div');\n",
              "          docLink.innerHTML = docLinkHtml;\n",
              "          element.appendChild(docLink);\n",
              "        }\n",
              "      </script>\n",
              "    </div>\n",
              "  </div>\n",
              "  "
            ]
          },
          "metadata": {},
          "execution_count": 69
        }
      ]
    },
    {
      "cell_type": "code",
      "source": [
        "df_posicion= pd.DataFrame(datos_posicion)\n",
        "df_posicion.columns=df_posicion.iloc[0].values\n",
        "df_posicion=df_posicion.drop(df_posicion.index[0])\n",
        "df_posicion"
      ],
      "metadata": {
        "colab": {
          "base_uri": "https://localhost:8080/",
          "height": 424
        },
        "id": "m-4i7mnXjYHX",
        "outputId": "085fdec4-ff2e-4035-e597-72f0a417c8a7"
      },
      "execution_count": null,
      "outputs": [
        {
          "output_type": "execute_result",
          "data": {
            "text/plain": [
              "                     time_tag bx_gsm by_gsm bz_gsm lon_gsm lat_gsm    bt\n",
              "1     2022-10-01 14:47:00.000  -6.20  -2.59  -0.15  202.63   -1.24  6.72\n",
              "2     2022-10-01 14:48:00.000  -6.34  -2.05   0.44  197.88    3.79  6.68\n",
              "3     2022-10-01 14:49:00.000  -6.44  -2.13   0.32  198.27    2.67  6.79\n",
              "4     2022-10-01 14:50:00.000  -6.38  -2.21   0.25  199.08    2.08  6.76\n",
              "5     2022-10-01 14:52:00.000  -6.26  -2.25   0.23  199.73    1.97  6.66\n",
              "...                       ...    ...    ...    ...     ...     ...   ...\n",
              "1412  2022-10-02 14:40:00.000  -4.65   4.68  -0.99  134.79   -8.56  6.67\n",
              "1413  2022-10-02 14:41:00.000  -5.23   4.12  -1.12  141.79   -9.55  6.75\n",
              "1414  2022-10-02 14:42:00.000  -5.17   3.98  -1.22  142.35  -10.60  6.64\n",
              "1415  2022-10-02 14:43:00.000  -5.55   3.41  -1.59  148.49  -13.68  6.70\n",
              "1416  2022-10-02 14:44:00.000  -5.85   2.71  -1.83  155.18  -15.81  6.70\n",
              "\n",
              "[1416 rows x 7 columns]"
            ],
            "text/html": [
              "\n",
              "  <div id=\"df-13e36b56-dac2-4f79-8777-1c32fa18f825\">\n",
              "    <div class=\"colab-df-container\">\n",
              "      <div>\n",
              "<style scoped>\n",
              "    .dataframe tbody tr th:only-of-type {\n",
              "        vertical-align: middle;\n",
              "    }\n",
              "\n",
              "    .dataframe tbody tr th {\n",
              "        vertical-align: top;\n",
              "    }\n",
              "\n",
              "    .dataframe thead th {\n",
              "        text-align: right;\n",
              "    }\n",
              "</style>\n",
              "<table border=\"1\" class=\"dataframe\">\n",
              "  <thead>\n",
              "    <tr style=\"text-align: right;\">\n",
              "      <th></th>\n",
              "      <th>time_tag</th>\n",
              "      <th>bx_gsm</th>\n",
              "      <th>by_gsm</th>\n",
              "      <th>bz_gsm</th>\n",
              "      <th>lon_gsm</th>\n",
              "      <th>lat_gsm</th>\n",
              "      <th>bt</th>\n",
              "    </tr>\n",
              "  </thead>\n",
              "  <tbody>\n",
              "    <tr>\n",
              "      <th>1</th>\n",
              "      <td>2022-10-01 14:47:00.000</td>\n",
              "      <td>-6.20</td>\n",
              "      <td>-2.59</td>\n",
              "      <td>-0.15</td>\n",
              "      <td>202.63</td>\n",
              "      <td>-1.24</td>\n",
              "      <td>6.72</td>\n",
              "    </tr>\n",
              "    <tr>\n",
              "      <th>2</th>\n",
              "      <td>2022-10-01 14:48:00.000</td>\n",
              "      <td>-6.34</td>\n",
              "      <td>-2.05</td>\n",
              "      <td>0.44</td>\n",
              "      <td>197.88</td>\n",
              "      <td>3.79</td>\n",
              "      <td>6.68</td>\n",
              "    </tr>\n",
              "    <tr>\n",
              "      <th>3</th>\n",
              "      <td>2022-10-01 14:49:00.000</td>\n",
              "      <td>-6.44</td>\n",
              "      <td>-2.13</td>\n",
              "      <td>0.32</td>\n",
              "      <td>198.27</td>\n",
              "      <td>2.67</td>\n",
              "      <td>6.79</td>\n",
              "    </tr>\n",
              "    <tr>\n",
              "      <th>4</th>\n",
              "      <td>2022-10-01 14:50:00.000</td>\n",
              "      <td>-6.38</td>\n",
              "      <td>-2.21</td>\n",
              "      <td>0.25</td>\n",
              "      <td>199.08</td>\n",
              "      <td>2.08</td>\n",
              "      <td>6.76</td>\n",
              "    </tr>\n",
              "    <tr>\n",
              "      <th>5</th>\n",
              "      <td>2022-10-01 14:52:00.000</td>\n",
              "      <td>-6.26</td>\n",
              "      <td>-2.25</td>\n",
              "      <td>0.23</td>\n",
              "      <td>199.73</td>\n",
              "      <td>1.97</td>\n",
              "      <td>6.66</td>\n",
              "    </tr>\n",
              "    <tr>\n",
              "      <th>...</th>\n",
              "      <td>...</td>\n",
              "      <td>...</td>\n",
              "      <td>...</td>\n",
              "      <td>...</td>\n",
              "      <td>...</td>\n",
              "      <td>...</td>\n",
              "      <td>...</td>\n",
              "    </tr>\n",
              "    <tr>\n",
              "      <th>1412</th>\n",
              "      <td>2022-10-02 14:40:00.000</td>\n",
              "      <td>-4.65</td>\n",
              "      <td>4.68</td>\n",
              "      <td>-0.99</td>\n",
              "      <td>134.79</td>\n",
              "      <td>-8.56</td>\n",
              "      <td>6.67</td>\n",
              "    </tr>\n",
              "    <tr>\n",
              "      <th>1413</th>\n",
              "      <td>2022-10-02 14:41:00.000</td>\n",
              "      <td>-5.23</td>\n",
              "      <td>4.12</td>\n",
              "      <td>-1.12</td>\n",
              "      <td>141.79</td>\n",
              "      <td>-9.55</td>\n",
              "      <td>6.75</td>\n",
              "    </tr>\n",
              "    <tr>\n",
              "      <th>1414</th>\n",
              "      <td>2022-10-02 14:42:00.000</td>\n",
              "      <td>-5.17</td>\n",
              "      <td>3.98</td>\n",
              "      <td>-1.22</td>\n",
              "      <td>142.35</td>\n",
              "      <td>-10.60</td>\n",
              "      <td>6.64</td>\n",
              "    </tr>\n",
              "    <tr>\n",
              "      <th>1415</th>\n",
              "      <td>2022-10-02 14:43:00.000</td>\n",
              "      <td>-5.55</td>\n",
              "      <td>3.41</td>\n",
              "      <td>-1.59</td>\n",
              "      <td>148.49</td>\n",
              "      <td>-13.68</td>\n",
              "      <td>6.70</td>\n",
              "    </tr>\n",
              "    <tr>\n",
              "      <th>1416</th>\n",
              "      <td>2022-10-02 14:44:00.000</td>\n",
              "      <td>-5.85</td>\n",
              "      <td>2.71</td>\n",
              "      <td>-1.83</td>\n",
              "      <td>155.18</td>\n",
              "      <td>-15.81</td>\n",
              "      <td>6.70</td>\n",
              "    </tr>\n",
              "  </tbody>\n",
              "</table>\n",
              "<p>1416 rows × 7 columns</p>\n",
              "</div>\n",
              "      <button class=\"colab-df-convert\" onclick=\"convertToInteractive('df-13e36b56-dac2-4f79-8777-1c32fa18f825')\"\n",
              "              title=\"Convert this dataframe to an interactive table.\"\n",
              "              style=\"display:none;\">\n",
              "        \n",
              "  <svg xmlns=\"http://www.w3.org/2000/svg\" height=\"24px\"viewBox=\"0 0 24 24\"\n",
              "       width=\"24px\">\n",
              "    <path d=\"M0 0h24v24H0V0z\" fill=\"none\"/>\n",
              "    <path d=\"M18.56 5.44l.94 2.06.94-2.06 2.06-.94-2.06-.94-.94-2.06-.94 2.06-2.06.94zm-11 1L8.5 8.5l.94-2.06 2.06-.94-2.06-.94L8.5 2.5l-.94 2.06-2.06.94zm10 10l.94 2.06.94-2.06 2.06-.94-2.06-.94-.94-2.06-.94 2.06-2.06.94z\"/><path d=\"M17.41 7.96l-1.37-1.37c-.4-.4-.92-.59-1.43-.59-.52 0-1.04.2-1.43.59L10.3 9.45l-7.72 7.72c-.78.78-.78 2.05 0 2.83L4 21.41c.39.39.9.59 1.41.59.51 0 1.02-.2 1.41-.59l7.78-7.78 2.81-2.81c.8-.78.8-2.07 0-2.86zM5.41 20L4 18.59l7.72-7.72 1.47 1.35L5.41 20z\"/>\n",
              "  </svg>\n",
              "      </button>\n",
              "      \n",
              "  <style>\n",
              "    .colab-df-container {\n",
              "      display:flex;\n",
              "      flex-wrap:wrap;\n",
              "      gap: 12px;\n",
              "    }\n",
              "\n",
              "    .colab-df-convert {\n",
              "      background-color: #E8F0FE;\n",
              "      border: none;\n",
              "      border-radius: 50%;\n",
              "      cursor: pointer;\n",
              "      display: none;\n",
              "      fill: #1967D2;\n",
              "      height: 32px;\n",
              "      padding: 0 0 0 0;\n",
              "      width: 32px;\n",
              "    }\n",
              "\n",
              "    .colab-df-convert:hover {\n",
              "      background-color: #E2EBFA;\n",
              "      box-shadow: 0px 1px 2px rgba(60, 64, 67, 0.3), 0px 1px 3px 1px rgba(60, 64, 67, 0.15);\n",
              "      fill: #174EA6;\n",
              "    }\n",
              "\n",
              "    [theme=dark] .colab-df-convert {\n",
              "      background-color: #3B4455;\n",
              "      fill: #D2E3FC;\n",
              "    }\n",
              "\n",
              "    [theme=dark] .colab-df-convert:hover {\n",
              "      background-color: #434B5C;\n",
              "      box-shadow: 0px 1px 3px 1px rgba(0, 0, 0, 0.15);\n",
              "      filter: drop-shadow(0px 1px 2px rgba(0, 0, 0, 0.3));\n",
              "      fill: #FFFFFF;\n",
              "    }\n",
              "  </style>\n",
              "\n",
              "      <script>\n",
              "        const buttonEl =\n",
              "          document.querySelector('#df-13e36b56-dac2-4f79-8777-1c32fa18f825 button.colab-df-convert');\n",
              "        buttonEl.style.display =\n",
              "          google.colab.kernel.accessAllowed ? 'block' : 'none';\n",
              "\n",
              "        async function convertToInteractive(key) {\n",
              "          const element = document.querySelector('#df-13e36b56-dac2-4f79-8777-1c32fa18f825');\n",
              "          const dataTable =\n",
              "            await google.colab.kernel.invokeFunction('convertToInteractive',\n",
              "                                                     [key], {});\n",
              "          if (!dataTable) return;\n",
              "\n",
              "          const docLinkHtml = 'Like what you see? Visit the ' +\n",
              "            '<a target=\"_blank\" href=https://colab.research.google.com/notebooks/data_table.ipynb>data table notebook</a>'\n",
              "            + ' to learn more about interactive tables.';\n",
              "          element.innerHTML = '';\n",
              "          dataTable['output_type'] = 'display_data';\n",
              "          await google.colab.output.renderOutput(dataTable, element);\n",
              "          const docLink = document.createElement('div');\n",
              "          docLink.innerHTML = docLinkHtml;\n",
              "          element.appendChild(docLink);\n",
              "        }\n",
              "      </script>\n",
              "    </div>\n",
              "  </div>\n",
              "  "
            ]
          },
          "metadata": {},
          "execution_count": 70
        }
      ]
    },
    {
      "cell_type": "markdown",
      "source": [
        "**WEARE GONNA WORK WITH THE DF_TEMPERATURA**"
      ],
      "metadata": {
        "id": "iYSekAwEVIXh"
      }
    },
    {
      "cell_type": "markdown",
      "source": [
        "**FIXING THE DATA**"
      ],
      "metadata": {
        "id": "L3f3pE3Tgg5F"
      }
    },
    {
      "cell_type": "code",
      "source": [
        "#we are taking just the hour the measuring is taken by the solar parke probe \n",
        "df_time=df_temperatura.time_tag.values\n",
        "\n",
        "for tiempos in range(df_time.size):\n",
        "   df_time[tiempos]=df_time[tiempos][11:16].replace(\":\",\".\")\n",
        "df_time"
      ],
      "metadata": {
        "id": "WoXOs9SgcPEA",
        "colab": {
          "base_uri": "https://localhost:8080/"
        },
        "outputId": "b38c7e9c-e826-49dc-a549-a5bb9c028c27"
      },
      "execution_count": null,
      "outputs": [
        {
          "output_type": "execute_result",
          "data": {
            "text/plain": [
              "array(['14.47', '14.48', '14.49', ..., '14.42', '14.43', '14.44'],\n",
              "      dtype=object)"
            ]
          },
          "metadata": {},
          "execution_count": 71
        }
      ]
    },
    {
      "cell_type": "code",
      "source": [
        "df_temperatura[\"time_tag\"]=df_time#we replace the column with the date with the hour and minute the solar parker probe is measuring "
      ],
      "metadata": {
        "id": "rnAvdg_HMf_k"
      },
      "execution_count": null,
      "outputs": []
    },
    {
      "cell_type": "markdown",
      "source": [
        "**CLEANING THE DATA**"
      ],
      "metadata": {
        "id": "HrlQA7zTUAri"
      }
    },
    {
      "cell_type": "code",
      "source": [
        "def clean_data(columna):\n",
        "  \"\"\"this funtion helps to replace the nulls values and prevents problems during the execution of the code \"\"\"\n",
        "  df_temperatura[columna][df_temperatura[columna].isnull()]=0.0 "
      ],
      "metadata": {
        "id": "A6uzLQsENVBE"
      },
      "execution_count": null,
      "outputs": []
    },
    {
      "cell_type": "code",
      "source": [
        "#we are transforming into integers the data because it was a string and we need the data as a integer to continue with the process\n",
        "def integer_trans(parametro):\n",
        "  \"\"\"this funtion will help to transfor from string to integer a column\"\"\"\n",
        "  parametros=df_temperatura[parametro].values\n",
        "  for index_para in range(parametros.size):\n",
        "    parametros[index_para]=int(parametros[index_para])\n",
        "  df_temperatura[parametro]=parametros"
      ],
      "metadata": {
        "id": "IRL2Vx0IPbZv"
      },
      "execution_count": null,
      "outputs": []
    },
    {
      "cell_type": "code",
      "source": [
        "#we are transforming into integers the data because it was a string and we need the data as a integer to continue with the process\n",
        "def float_trans(parametro):\n",
        "  \"\"\"this funtion will help to transfor from string to integer a column\"\"\"\n",
        "  parametros=df_temperatura[parametro].values\n",
        "  for index_para in range(parametros.size):\n",
        "    parametros[index_para]=float(parametros[index_para])\n",
        "  df_temperatura[parametro]=parametros"
      ],
      "metadata": {
        "id": "fAZVOe2fZ6Mi"
      },
      "execution_count": null,
      "outputs": []
    },
    {
      "cell_type": "code",
      "source": [
        "def replace_cero(columna):\n",
        "  \"\"\"this funtion will replace the zero values for the median of the column values \"\"\"\n",
        "  df_temperatura[columna][df_temperatura[columna]==0.0]=df_temperatura[columna].median()"
      ],
      "metadata": {
        "id": "gXnMvwsnYL-a"
      },
      "execution_count": null,
      "outputs": []
    },
    {
      "cell_type": "code",
      "source": [
        "def trans_time_to_minutes(tiempo):\n",
        "  \"\"\"this function will take the data from columns that is in a format hours.minutes and i will get the total minutes\"\"\"\n",
        "  parametros=df_temperatura[tiempo].values\n",
        "  for index_para in range(parametros.size):\n",
        "    parametros[index_para]=str(parametros[index_para])\n",
        "    horas,minutos=parametros[index_para].split(\".\")\n",
        "    resultado=(float(horas)*60)+float(minutos)\n",
        "    parametros[index_para]=resultado\n",
        "  df_temperatura[tiempo]=parametros"
      ],
      "metadata": {
        "id": "B5zA3kARhZaT"
      },
      "execution_count": null,
      "outputs": []
    },
    {
      "cell_type": "code",
      "source": [
        "#we clean the data of the tempeture column\n",
        "clean_data(\"temperature\")\n",
        "float_trans(\"temperature\")\n",
        "replace_cero(\"temperature\")\n",
        "#we turn the time column into float beacuse it was as String values\n",
        "float_trans(\"time_tag\")"
      ],
      "metadata": {
        "id": "cGtI7SklV7q0"
      },
      "execution_count": null,
      "outputs": []
    },
    {
      "cell_type": "code",
      "source": [
        " #we sorted data from the highest tempeture to the lowest\n",
        "df_temperatura = df_temperatura.sort_values(by=['temperature'], ascending=False) #sort data from the highest tempeture to the lowest\n",
        "df_temperatura"
      ],
      "metadata": {
        "colab": {
          "base_uri": "https://localhost:8080/",
          "height": 424
        },
        "id": "QWt45TX6Ngdj",
        "outputId": "04078510-8960-42c6-d045-9c513fe124f0"
      },
      "execution_count": null,
      "outputs": [
        {
          "output_type": "execute_result",
          "data": {
            "text/plain": [
              "     time_tag density  speed temperature\n",
              "1141    10.29    0.47  479.5    604655.0\n",
              "1219    11.48    0.64  468.4    553529.0\n",
              "862      5.44    0.17  529.4    553361.0\n",
              "1218    11.47    0.68  464.8    551543.0\n",
              "1214    11.43    0.67  466.9    532480.0\n",
              "...       ...     ...    ...         ...\n",
              "964      7.28    0.20  392.9     18282.0\n",
              "889      6.11    0.08  388.1     17814.0\n",
              "848       5.3    0.10  394.4     15664.0\n",
              "952      7.16    0.17  396.3     15319.0\n",
              "979      7.44    0.20  392.1     14989.0\n",
              "\n",
              "[1389 rows x 4 columns]"
            ],
            "text/html": [
              "\n",
              "  <div id=\"df-c4c7a9d6-bc10-4d01-95b2-7d863be6f110\">\n",
              "    <div class=\"colab-df-container\">\n",
              "      <div>\n",
              "<style scoped>\n",
              "    .dataframe tbody tr th:only-of-type {\n",
              "        vertical-align: middle;\n",
              "    }\n",
              "\n",
              "    .dataframe tbody tr th {\n",
              "        vertical-align: top;\n",
              "    }\n",
              "\n",
              "    .dataframe thead th {\n",
              "        text-align: right;\n",
              "    }\n",
              "</style>\n",
              "<table border=\"1\" class=\"dataframe\">\n",
              "  <thead>\n",
              "    <tr style=\"text-align: right;\">\n",
              "      <th></th>\n",
              "      <th>time_tag</th>\n",
              "      <th>density</th>\n",
              "      <th>speed</th>\n",
              "      <th>temperature</th>\n",
              "    </tr>\n",
              "  </thead>\n",
              "  <tbody>\n",
              "    <tr>\n",
              "      <th>1141</th>\n",
              "      <td>10.29</td>\n",
              "      <td>0.47</td>\n",
              "      <td>479.5</td>\n",
              "      <td>604655.0</td>\n",
              "    </tr>\n",
              "    <tr>\n",
              "      <th>1219</th>\n",
              "      <td>11.48</td>\n",
              "      <td>0.64</td>\n",
              "      <td>468.4</td>\n",
              "      <td>553529.0</td>\n",
              "    </tr>\n",
              "    <tr>\n",
              "      <th>862</th>\n",
              "      <td>5.44</td>\n",
              "      <td>0.17</td>\n",
              "      <td>529.4</td>\n",
              "      <td>553361.0</td>\n",
              "    </tr>\n",
              "    <tr>\n",
              "      <th>1218</th>\n",
              "      <td>11.47</td>\n",
              "      <td>0.68</td>\n",
              "      <td>464.8</td>\n",
              "      <td>551543.0</td>\n",
              "    </tr>\n",
              "    <tr>\n",
              "      <th>1214</th>\n",
              "      <td>11.43</td>\n",
              "      <td>0.67</td>\n",
              "      <td>466.9</td>\n",
              "      <td>532480.0</td>\n",
              "    </tr>\n",
              "    <tr>\n",
              "      <th>...</th>\n",
              "      <td>...</td>\n",
              "      <td>...</td>\n",
              "      <td>...</td>\n",
              "      <td>...</td>\n",
              "    </tr>\n",
              "    <tr>\n",
              "      <th>964</th>\n",
              "      <td>7.28</td>\n",
              "      <td>0.20</td>\n",
              "      <td>392.9</td>\n",
              "      <td>18282.0</td>\n",
              "    </tr>\n",
              "    <tr>\n",
              "      <th>889</th>\n",
              "      <td>6.11</td>\n",
              "      <td>0.08</td>\n",
              "      <td>388.1</td>\n",
              "      <td>17814.0</td>\n",
              "    </tr>\n",
              "    <tr>\n",
              "      <th>848</th>\n",
              "      <td>5.3</td>\n",
              "      <td>0.10</td>\n",
              "      <td>394.4</td>\n",
              "      <td>15664.0</td>\n",
              "    </tr>\n",
              "    <tr>\n",
              "      <th>952</th>\n",
              "      <td>7.16</td>\n",
              "      <td>0.17</td>\n",
              "      <td>396.3</td>\n",
              "      <td>15319.0</td>\n",
              "    </tr>\n",
              "    <tr>\n",
              "      <th>979</th>\n",
              "      <td>7.44</td>\n",
              "      <td>0.20</td>\n",
              "      <td>392.1</td>\n",
              "      <td>14989.0</td>\n",
              "    </tr>\n",
              "  </tbody>\n",
              "</table>\n",
              "<p>1389 rows × 4 columns</p>\n",
              "</div>\n",
              "      <button class=\"colab-df-convert\" onclick=\"convertToInteractive('df-c4c7a9d6-bc10-4d01-95b2-7d863be6f110')\"\n",
              "              title=\"Convert this dataframe to an interactive table.\"\n",
              "              style=\"display:none;\">\n",
              "        \n",
              "  <svg xmlns=\"http://www.w3.org/2000/svg\" height=\"24px\"viewBox=\"0 0 24 24\"\n",
              "       width=\"24px\">\n",
              "    <path d=\"M0 0h24v24H0V0z\" fill=\"none\"/>\n",
              "    <path d=\"M18.56 5.44l.94 2.06.94-2.06 2.06-.94-2.06-.94-.94-2.06-.94 2.06-2.06.94zm-11 1L8.5 8.5l.94-2.06 2.06-.94-2.06-.94L8.5 2.5l-.94 2.06-2.06.94zm10 10l.94 2.06.94-2.06 2.06-.94-2.06-.94-.94-2.06-.94 2.06-2.06.94z\"/><path d=\"M17.41 7.96l-1.37-1.37c-.4-.4-.92-.59-1.43-.59-.52 0-1.04.2-1.43.59L10.3 9.45l-7.72 7.72c-.78.78-.78 2.05 0 2.83L4 21.41c.39.39.9.59 1.41.59.51 0 1.02-.2 1.41-.59l7.78-7.78 2.81-2.81c.8-.78.8-2.07 0-2.86zM5.41 20L4 18.59l7.72-7.72 1.47 1.35L5.41 20z\"/>\n",
              "  </svg>\n",
              "      </button>\n",
              "      \n",
              "  <style>\n",
              "    .colab-df-container {\n",
              "      display:flex;\n",
              "      flex-wrap:wrap;\n",
              "      gap: 12px;\n",
              "    }\n",
              "\n",
              "    .colab-df-convert {\n",
              "      background-color: #E8F0FE;\n",
              "      border: none;\n",
              "      border-radius: 50%;\n",
              "      cursor: pointer;\n",
              "      display: none;\n",
              "      fill: #1967D2;\n",
              "      height: 32px;\n",
              "      padding: 0 0 0 0;\n",
              "      width: 32px;\n",
              "    }\n",
              "\n",
              "    .colab-df-convert:hover {\n",
              "      background-color: #E2EBFA;\n",
              "      box-shadow: 0px 1px 2px rgba(60, 64, 67, 0.3), 0px 1px 3px 1px rgba(60, 64, 67, 0.15);\n",
              "      fill: #174EA6;\n",
              "    }\n",
              "\n",
              "    [theme=dark] .colab-df-convert {\n",
              "      background-color: #3B4455;\n",
              "      fill: #D2E3FC;\n",
              "    }\n",
              "\n",
              "    [theme=dark] .colab-df-convert:hover {\n",
              "      background-color: #434B5C;\n",
              "      box-shadow: 0px 1px 3px 1px rgba(0, 0, 0, 0.15);\n",
              "      filter: drop-shadow(0px 1px 2px rgba(0, 0, 0, 0.3));\n",
              "      fill: #FFFFFF;\n",
              "    }\n",
              "  </style>\n",
              "\n",
              "      <script>\n",
              "        const buttonEl =\n",
              "          document.querySelector('#df-c4c7a9d6-bc10-4d01-95b2-7d863be6f110 button.colab-df-convert');\n",
              "        buttonEl.style.display =\n",
              "          google.colab.kernel.accessAllowed ? 'block' : 'none';\n",
              "\n",
              "        async function convertToInteractive(key) {\n",
              "          const element = document.querySelector('#df-c4c7a9d6-bc10-4d01-95b2-7d863be6f110');\n",
              "          const dataTable =\n",
              "            await google.colab.kernel.invokeFunction('convertToInteractive',\n",
              "                                                     [key], {});\n",
              "          if (!dataTable) return;\n",
              "\n",
              "          const docLinkHtml = 'Like what you see? Visit the ' +\n",
              "            '<a target=\"_blank\" href=https://colab.research.google.com/notebooks/data_table.ipynb>data table notebook</a>'\n",
              "            + ' to learn more about interactive tables.';\n",
              "          element.innerHTML = '';\n",
              "          dataTable['output_type'] = 'display_data';\n",
              "          await google.colab.output.renderOutput(dataTable, element);\n",
              "          const docLink = document.createElement('div');\n",
              "          docLink.innerHTML = docLinkHtml;\n",
              "          element.appendChild(docLink);\n",
              "        }\n",
              "      </script>\n",
              "    </div>\n",
              "  </div>\n",
              "  "
            ]
          },
          "metadata": {},
          "execution_count": 79
        }
      ]
    },
    {
      "cell_type": "markdown",
      "source": [
        "**PLOT THE DATA**"
      ],
      "metadata": {
        "id": "t7HMPakZazFC"
      }
    },
    {
      "cell_type": "code",
      "source": [
        "df_temperatura['time_tag'].values "
      ],
      "metadata": {
        "colab": {
          "base_uri": "https://localhost:8080/"
        },
        "id": "Hd5GTyX4c5ri",
        "outputId": "8cd229db-feda-419c-a958-1ac3517bd190"
      },
      "execution_count": null,
      "outputs": [
        {
          "output_type": "execute_result",
          "data": {
            "text/plain": [
              "array([10.29, 11.48, 5.44, ..., 5.3, 7.16, 7.44], dtype=object)"
            ]
          },
          "metadata": {},
          "execution_count": 80
        }
      ]
    },
    {
      "cell_type": "code",
      "source": [
        "import matplotlib.pylab as plt  #import library for plotting, https://pypi.org/project/matplotlib/\n",
        "import numpy as np\n",
        "hours = df_temperatura['time_tag'].values    #this is a numpy array (not a list), you can do mathematical operations directly on the object\n",
        "temperatures = df_temperatura['temperature'].values \n",
        "hours = hours.astype(float)\n",
        "temperatures = temperatures.astype(float)\n",
        "plt.scatter(hours, temperatures)\n",
        "plt.xlabel('hours [hours]')\n",
        "plt.ylabel('temperatures [celsius]')\n",
        "plt.show()\n"
      ],
      "metadata": {
        "colab": {
          "base_uri": "https://localhost:8080/",
          "height": 279
        },
        "id": "GlRtr5_pOJlz",
        "outputId": "cabde4be-af7d-4a18-e9b7-4ea213adc5db"
      },
      "execution_count": null,
      "outputs": [
        {
          "output_type": "display_data",
          "data": {
            "text/plain": [
              "<Figure size 432x288 with 1 Axes>"
            ],
            "image/png": "[encoded data removed]"
          },
          "metadata": {
            "needs_background": "light"
          }
        }
      ]
    },
    {
      "cell_type": "code",
      "source": [
        "#we transform the time into its amount of minutes to do a compression of the time to get good values for the future mapping \n",
        "trans_time_to_minutes('time_tag')"
      ],
      "metadata": {
        "id": "qd9kYjc_imtw"
      },
      "execution_count": null,
      "outputs": []
    },
    {
      "cell_type": "code",
      "source": [
        "df_temperatura = df_temperatura.sort_values(by=['time_tag'], ascending=False) #sort data from the highest amount of minutes  to the lowest\n"
      ],
      "metadata": {
        "id": "QUNl8Bejl8PL"
      },
      "execution_count": null,
      "outputs": []
    },
    {
      "cell_type": "code",
      "source": [
        "df_temperatura"
      ],
      "metadata": {
        "colab": {
          "base_uri": "https://localhost:8080/",
          "height": 424
        },
        "id": "yDUlEzgZrVIh",
        "outputId": "ae8d8801-6424-44ad-b3f7-332322220cae"
      },
      "execution_count": null,
      "outputs": [
        {
          "output_type": "execute_result",
          "data": {
            "text/plain": [
              "    time_tag density  speed temperature\n",
              "521   1439.0    1.86  411.6     83541.0\n",
              "520   1438.0    1.89  413.2     89167.0\n",
              "519   1437.0    1.90  413.1     90111.0\n",
              "518   1436.0    1.80  412.3     88603.0\n",
              "517   1435.0    1.62  414.1     88697.0\n",
              "..       ...     ...    ...         ...\n",
              "524      2.0    1.97  410.5     78954.0\n",
              "542      2.0    1.91  415.2     93093.0\n",
              "532      1.0    2.07  415.7     94702.0\n",
              "523      1.0    2.36  412.1     69059.0\n",
              "522      0.0    1.86  411.6     83541.0\n",
              "\n",
              "[1389 rows x 4 columns]"
            ],
            "text/html": [
              "\n",
              "  <div id=\"df-b8da8536-d382-4fa9-be1e-b76875d601e0\">\n",
              "    <div class=\"colab-df-container\">\n",
              "      <div>\n",
              "<style scoped>\n",
              "    .dataframe tbody tr th:only-of-type {\n",
              "        vertical-align: middle;\n",
              "    }\n",
              "\n",
              "    .dataframe tbody tr th {\n",
              "        vertical-align: top;\n",
              "    }\n",
              "\n",
              "    .dataframe thead th {\n",
              "        text-align: right;\n",
              "    }\n",
              "</style>\n",
              "<table border=\"1\" class=\"dataframe\">\n",
              "  <thead>\n",
              "    <tr style=\"text-align: right;\">\n",
              "      <th></th>\n",
              "      <th>time_tag</th>\n",
              "      <th>density</th>\n",
              "      <th>speed</th>\n",
              "      <th>temperature</th>\n",
              "    </tr>\n",
              "  </thead>\n",
              "  <tbody>\n",
              "    <tr>\n",
              "      <th>521</th>\n",
              "      <td>1439.0</td>\n",
              "      <td>1.86</td>\n",
              "      <td>411.6</td>\n",
              "      <td>83541.0</td>\n",
              "    </tr>\n",
              "    <tr>\n",
              "      <th>520</th>\n",
              "      <td>1438.0</td>\n",
              "      <td>1.89</td>\n",
              "      <td>413.2</td>\n",
              "      <td>89167.0</td>\n",
              "    </tr>\n",
              "    <tr>\n",
              "      <th>519</th>\n",
              "      <td>1437.0</td>\n",
              "      <td>1.90</td>\n",
              "      <td>413.1</td>\n",
              "      <td>90111.0</td>\n",
              "    </tr>\n",
              "    <tr>\n",
              "      <th>518</th>\n",
              "      <td>1436.0</td>\n",
              "      <td>1.80</td>\n",
              "      <td>412.3</td>\n",
              "      <td>88603.0</td>\n",
              "    </tr>\n",
              "    <tr>\n",
              "      <th>517</th>\n",
              "      <td>1435.0</td>\n",
              "      <td>1.62</td>\n",
              "      <td>414.1</td>\n",
              "      <td>88697.0</td>\n",
              "    </tr>\n",
              "    <tr>\n",
              "      <th>...</th>\n",
              "      <td>...</td>\n",
              "      <td>...</td>\n",
              "      <td>...</td>\n",
              "      <td>...</td>\n",
              "    </tr>\n",
              "    <tr>\n",
              "      <th>524</th>\n",
              "      <td>2.0</td>\n",
              "      <td>1.97</td>\n",
              "      <td>410.5</td>\n",
              "      <td>78954.0</td>\n",
              "    </tr>\n",
              "    <tr>\n",
              "      <th>542</th>\n",
              "      <td>2.0</td>\n",
              "      <td>1.91</td>\n",
              "      <td>415.2</td>\n",
              "      <td>93093.0</td>\n",
              "    </tr>\n",
              "    <tr>\n",
              "      <th>532</th>\n",
              "      <td>1.0</td>\n",
              "      <td>2.07</td>\n",
              "      <td>415.7</td>\n",
              "      <td>94702.0</td>\n",
              "    </tr>\n",
              "    <tr>\n",
              "      <th>523</th>\n",
              "      <td>1.0</td>\n",
              "      <td>2.36</td>\n",
              "      <td>412.1</td>\n",
              "      <td>69059.0</td>\n",
              "    </tr>\n",
              "    <tr>\n",
              "      <th>522</th>\n",
              "      <td>0.0</td>\n",
              "      <td>1.86</td>\n",
              "      <td>411.6</td>\n",
              "      <td>83541.0</td>\n",
              "    </tr>\n",
              "  </tbody>\n",
              "</table>\n",
              "<p>1389 rows × 4 columns</p>\n",
              "</div>\n",
              "      <button class=\"colab-df-convert\" onclick=\"convertToInteractive('df-b8da8536-d382-4fa9-be1e-b76875d601e0')\"\n",
              "              title=\"Convert this dataframe to an interactive table.\"\n",
              "              style=\"display:none;\">\n",
              "        \n",
              "  <svg xmlns=\"http://www.w3.org/2000/svg\" height=\"24px\"viewBox=\"0 0 24 24\"\n",
              "       width=\"24px\">\n",
              "    <path d=\"M0 0h24v24H0V0z\" fill=\"none\"/>\n",
              "    <path d=\"M18.56 5.44l.94 2.06.94-2.06 2.06-.94-2.06-.94-.94-2.06-.94 2.06-2.06.94zm-11 1L8.5 8.5l.94-2.06 2.06-.94-2.06-.94L8.5 2.5l-.94 2.06-2.06.94zm10 10l.94 2.06.94-2.06 2.06-.94-2.06-.94-.94-2.06-.94 2.06-2.06.94z\"/><path d=\"M17.41 7.96l-1.37-1.37c-.4-.4-.92-.59-1.43-.59-.52 0-1.04.2-1.43.59L10.3 9.45l-7.72 7.72c-.78.78-.78 2.05 0 2.83L4 21.41c.39.39.9.59 1.41.59.51 0 1.02-.2 1.41-.59l7.78-7.78 2.81-2.81c.8-.78.8-2.07 0-2.86zM5.41 20L4 18.59l7.72-7.72 1.47 1.35L5.41 20z\"/>\n",
              "  </svg>\n",
              "      </button>\n",
              "      \n",
              "  <style>\n",
              "    .colab-df-container {\n",
              "      display:flex;\n",
              "      flex-wrap:wrap;\n",
              "      gap: 12px;\n",
              "    }\n",
              "\n",
              "    .colab-df-convert {\n",
              "      background-color: #E8F0FE;\n",
              "      border: none;\n",
              "      border-radius: 50%;\n",
              "      cursor: pointer;\n",
              "      display: none;\n",
              "      fill: #1967D2;\n",
              "      height: 32px;\n",
              "      padding: 0 0 0 0;\n",
              "      width: 32px;\n",
              "    }\n",
              "\n",
              "    .colab-df-convert:hover {\n",
              "      background-color: #E2EBFA;\n",
              "      box-shadow: 0px 1px 2px rgba(60, 64, 67, 0.3), 0px 1px 3px 1px rgba(60, 64, 67, 0.15);\n",
              "      fill: #174EA6;\n",
              "    }\n",
              "\n",
              "    [theme=dark] .colab-df-convert {\n",
              "      background-color: #3B4455;\n",
              "      fill: #D2E3FC;\n",
              "    }\n",
              "\n",
              "    [theme=dark] .colab-df-convert:hover {\n",
              "      background-color: #434B5C;\n",
              "      box-shadow: 0px 1px 3px 1px rgba(0, 0, 0, 0.15);\n",
              "      filter: drop-shadow(0px 1px 2px rgba(0, 0, 0, 0.3));\n",
              "      fill: #FFFFFF;\n",
              "    }\n",
              "  </style>\n",
              "\n",
              "      <script>\n",
              "        const buttonEl =\n",
              "          document.querySelector('#df-b8da8536-d382-4fa9-be1e-b76875d601e0 button.colab-df-convert');\n",
              "        buttonEl.style.display =\n",
              "          google.colab.kernel.accessAllowed ? 'block' : 'none';\n",
              "\n",
              "        async function convertToInteractive(key) {\n",
              "          const element = document.querySelector('#df-b8da8536-d382-4fa9-be1e-b76875d601e0');\n",
              "          const dataTable =\n",
              "            await google.colab.kernel.invokeFunction('convertToInteractive',\n",
              "                                                     [key], {});\n",
              "          if (!dataTable) return;\n",
              "\n",
              "          const docLinkHtml = 'Like what you see? Visit the ' +\n",
              "            '<a target=\"_blank\" href=https://colab.research.google.com/notebooks/data_table.ipynb>data table notebook</a>'\n",
              "            + ' to learn more about interactive tables.';\n",
              "          element.innerHTML = '';\n",
              "          dataTable['output_type'] = 'display_data';\n",
              "          await google.colab.output.renderOutput(dataTable, element);\n",
              "          const docLink = document.createElement('div');\n",
              "          docLink.innerHTML = docLinkHtml;\n",
              "          element.appendChild(docLink);\n",
              "        }\n",
              "      </script>\n",
              "    </div>\n",
              "  </div>\n",
              "  "
            ]
          },
          "metadata": {},
          "execution_count": 84
        }
      ]
    },
    {
      "cell_type": "markdown",
      "source": [
        "**COMPRESS THE TIME**"
      ],
      "metadata": {
        "id": "Jox2p5RrjuOf"
      }
    },
    {
      "cell_type": "markdown",
      "source": [
        "we set a conversion factor to compress time , we this we say how much do we want to be compressed by in a particular way."
      ],
      "metadata": {
        "id": "TMLhf9Etk1PZ"
      }
    },
    {
      "cell_type": "markdown",
      "source": [
        "**set the conversion factor to compress the time**\n",
        "\n"
      ],
      "metadata": {
        "id": "OaQ80nr5kL1v"
      }
    },
    {
      "cell_type": "code",
      "source": [
        "hours\n",
        "max(hours)"
      ],
      "metadata": {
        "colab": {
          "base_uri": "https://localhost:8080/"
        },
        "id": "osKWHAs6mYHu",
        "outputId": "99898fc3-2eb1-4039-858b-f3705ab8eef6"
      },
      "execution_count": null,
      "outputs": [
        {
          "output_type": "execute_result",
          "data": {
            "text/plain": [
              "23.59"
            ]
          },
          "metadata": {},
          "execution_count": 85
        }
      ]
    },
    {
      "cell_type": "code",
      "source": [
        "#number of minutes for each beat of music\n",
        "many_minutes=24\n",
        "t_data = df_temperatura[\"time_tag\"]/many_minutes #rescale time from minutes to beats"
      ],
      "metadata": {
        "id": "V6vUEq-rixbI"
      },
      "execution_count": null,
      "outputs": []
    },
    {
      "cell_type": "code",
      "source": [
        "t_data[:25]\n",
        "duration_beats = max(t_data)  #duration in beats (actually, onset of last note)\n",
        "print('Duration:', duration_beats, 'beats')\n",
        "#we are working with beats because we'll need to convert it to midi files for the sonification"
      ],
      "metadata": {
        "colab": {
          "base_uri": "https://localhost:8080/"
        },
        "id": "WmLOX6TgmSvh",
        "outputId": "d595999a-4c55-48ce-9145-a614084b8c1c"
      },
      "execution_count": null,
      "outputs": [
        {
          "output_type": "stream",
          "name": "stdout",
          "text": [
            "Duration: 59.958333333333336 beats\n"
          ]
        }
      ]
    },
    {
      "cell_type": "markdown",
      "source": [
        "**Normalize and scale data**"
      ],
      "metadata": {
        "id": "MDI6qJnsst6m"
      }
    },
    {
      "cell_type": "markdown",
      "source": [
        "normalize the data means that it goes from zero to one , so we'll use a mapping function to normalize  the data."
      ],
      "metadata": {
        "id": "2Bd2mvgptwL1"
      }
    },
    {
      "cell_type": "code",
      "source": [
        "#general mapping function\n",
        "def map_value(value, min_value, max_value, min_result, max_result):\n",
        "    '''maps value (or array of values) from one range to another'''\n",
        "    \n",
        "    result = min_result + (value - min_value)/(max_value - min_value)*(max_result - min_result)\n",
        "    return result"
      ],
      "metadata": {
        "id": "LUPwfkT8szDt"
      },
      "execution_count": null,
      "outputs": []
    },
    {
      "cell_type": "code",
      "source": [
        "y_data = map_value(df_temperatura[\"temperature\"], min(df_temperatura[\"temperature\"]), max(df_temperatura[\"temperature\"]), 0, 1) #normalize data, so it runs from 0 to 1 \n",
        "\n",
        "y_scale = 0.5  #lower than 1 to spread out more evenly\n",
        "\n",
        "y_data = y_data**y_scale\n",
        "y_temps=df_temperatura[\"time_tag\"].values\n",
        "y_temps=y_temps.astype(float)\n",
        "y_data=y_data.astype(float)\n",
        "plt.scatter(y_temps, y_data, s=50*y_data)\n",
        "plt.xlabel('time [minutes]')\n",
        "plt.ylabel('y data [normalized]')\n",
        "plt.show()\n",
        "# we did the scaling because if we had mapped this data the data in the botton could be mapped to the same musical note"
      ],
      "metadata": {
        "colab": {
          "base_uri": "https://localhost:8080/",
          "height": 279
        },
        "id": "FSSq9SX1uLb2",
        "outputId": "1dbe1c72-761d-4a7c-954b-9d2928bebcbd"
      },
      "execution_count": null,
      "outputs": [
        {
          "output_type": "display_data",
          "data": {
            "text/plain": [
              "<Figure size 432x288 with 1 Axes>"
            ],
            "image/png": "[encoded data removed]"
          },
          "metadata": {
            "needs_background": "light"
          }
        }
      ]
    },
    {
      "cell_type": "markdown",
      "source": [
        "'''\n",
        "## 6) Choose musical notes for pitch mapping, convert to midi numbers\n",
        "- choose the set of musical notes to map data to (it's common to use a few octaves of a certain scale but you can choose any set of notes you want depending on your goals for the sonification)\n",
        "- the total number of notes sets the pitch resolution, think of this as the number of rows of pixels in an image\n",
        "- these note names are converted to [midi note numbers](https://www.inspiredacoustics.com/\n",
        "\n",
        "en/MIDI_note_numbers_and_center_frequencies ) (integers from 0 to 127, lowest note on piano = A0 = 21, C1 = 24, etc.)\n",
        "\n",
        "\n",
        "(from [Müller, FMP, Springer 2015](https://www.audiolabs-erlangen.de/fau/professor/mueller/bookFMP))"
      ],
      "metadata": {
        "id": "9LJ8p0_ew_N0"
      }
    },
    {
      "cell_type": "code",
      "source": [
        "pip install audiolazy"
      ],
      "metadata": {
        "colab": {
          "base_uri": "https://localhost:8080/"
        },
        "id": "AUUe1YVoyeJe",
        "outputId": "8d52b020-4090-4a1c-b71d-e7f2e326a60d"
      },
      "execution_count": null,
      "outputs": [
        {
          "output_type": "stream",
          "name": "stdout",
          "text": [
            "Looking in indexes: https://pypi.org/simple, https://us-python.pkg.dev/colab-wheels/public/simple/\n",
            "Requirement already satisfied: audiolazy in /usr/local/lib/python3.7/dist-packages (0.6)\n"
          ]
        }
      ]
    },
    {
      "cell_type": "code",
      "source": [
        "from audiolazy import str2midi #import function to convert note names to midi numbers (could also use: midi2str, str2freq, freq2str,freq2midi,midi2freq) https://pypi.org/project/audiolazy/\n",
        "\n",
        "# # 4 octaves of major scale\n",
        "# note_names = ['C2','D2','E2','F2','G2','A2','B2',\n",
        "#              'C3','D3','E3','F3','G3','A3','B3',\n",
        "#              'C4','D4','E4','F4','G4','A4','B4',\n",
        "#              'C5','D5','E5','F5','G5','A5','B5']\n",
        "\n",
        "# #4 octaves of major pentatonic scale \n",
        "# note_names = ['C2','D2','E2','G2','A2',\n",
        "#              'C3','D3','E3','G3','A3',\n",
        "#              'C4','D4','E4','G4','A4',\n",
        "#              'C5','D5','E5','G5','A5']\n",
        "\n",
        "#custom note set (a voicing of a Cmaj13#11 chord, notes from C lydian)\n",
        "note_names = ['C1','C2','G2',\n",
        "             'C3','E3','G3','A3','B3',\n",
        "             'D4','E4','G4','A4','B4',\n",
        "             'D5','E5','G5','A5','B5',\n",
        "             'D6','E6','F#6','G6','A6']\n",
        "\n",
        "note_midis = [str2midi(n) for n in note_names] #make a list of midi note numbers \n",
        "\n",
        "n_notes = len(note_midis)\n",
        "print('Resolution:',n_notes, 'notes')"
      ],
      "metadata": {
        "colab": {
          "base_uri": "https://localhost:8080/"
        },
        "id": "1_bf0-GQuLdw",
        "outputId": "14adc3d0-ab3e-4e81-df0f-32d75f2bd682"
      },
      "execution_count": null,
      "outputs": [
        {
          "output_type": "stream",
          "name": "stdout",
          "text": [
            "Resolution: 23 notes\n"
          ]
        }
      ]
    },
    {
      "cell_type": "markdown",
      "source": [
        "**MAP THE DATA TO MIDI NOTE NUMBERS**"
      ],
      "metadata": {
        "id": "-NYq2FGY5puO"
      }
    },
    {
      "cell_type": "code",
      "source": [
        "n_measurements=len(df_temperatura)\n",
        "n_measurements#how many measurements the solar parker probe is taken"
      ],
      "metadata": {
        "colab": {
          "base_uri": "https://localhost:8080/"
        },
        "id": "ZuU6ZQSQ5jXG",
        "outputId": "e742669f-0bc2-4fee-f7bf-8fe80aed7d30"
      },
      "execution_count": null,
      "outputs": [
        {
          "output_type": "execute_result",
          "data": {
            "text/plain": [
              "1389"
            ]
          },
          "metadata": {},
          "execution_count": 92
        }
      ]
    },
    {
      "cell_type": "code",
      "source": [
        "midi_data = []\n",
        "for i in range(n_measurements):\n",
        "    note_index = round(map_value(y_data.values[i], 0, 1, n_notes-1, 0)) #notice choice of polarity: bigger temperatures are mapped to lower notes                                  #we round the result because it's a list index which must be an integer\n",
        "    midi_data.append(note_midis[note_index])\n",
        "\n",
        "plt.scatter(t_data, midi_data, s=50*y_data)\n",
        "plt.xlabel('time [beats]')\n",
        "plt.ylabel('midi note numbers')\n",
        "plt.show()"
      ],
      "metadata": {
        "colab": {
          "base_uri": "https://localhost:8080/",
          "height": 279
        },
        "id": "cWIyXGXk6pve",
        "outputId": "0289dd72-35eb-4936-b598-47e528b4eea7"
      },
      "execution_count": null,
      "outputs": [
        {
          "output_type": "display_data",
          "data": {
            "text/plain": [
              "<Figure size 432x288 with 1 Axes>"
            ],
            "image/png": "[encoded data removed]"
          },
          "metadata": {
            "needs_background": "light"
          }
        }
      ]
    },
    {
      "cell_type": "markdown",
      "source": [
        "**MAP THE DATA TO THE NOTE VELOCITIES**"
      ],
      "metadata": {
        "id": "L5qCRhgJAzEO"
      }
    },
    {
      "cell_type": "markdown",
      "source": [
        "\n",
        "\n",
        "*  midi velocity (integer from 0-127) is a combination of volume and intensity \n",
        "(hitting a piano key with a larger velocity makes a louder, more intense sound).\n",
        "*   we are using the same data to control the note pitch and the note velocity (this is called 'dual coding')."
      ],
      "metadata": {
        "id": "9lA7Z2DoA_RW"
      }
    },
    {
      "cell_type": "code",
      "source": [
        "vel_min,vel_max = 35,127   #minimum and maximum note velocity\n",
        "\n",
        "vel_data = []\n",
        "for i in range(n_measurements):\n",
        "    note_velocity = round(map_value(y_data.values[i], 0, 1, vel_min, vel_max)) #bigger temperatures will be louder\n",
        "                                                                #we round here because note velocites are integers\n",
        "    vel_data.append(note_velocity)\n",
        "    \n",
        "plt.scatter(t_data, midi_data, s=vel_data)\n",
        "plt.xlabel('time [beats]')\n",
        "plt.ylabel('midi note numbers')\n",
        "plt.show()"
      ],
      "metadata": {
        "colab": {
          "base_uri": "https://localhost:8080/",
          "height": 279
        },
        "id": "EUGJ2OO3A25-",
        "outputId": "33a7dbb2-1c6c-4a6c-c0f8-2e2c1f1061c1"
      },
      "execution_count": null,
      "outputs": [
        {
          "output_type": "display_data",
          "data": {
            "text/plain": [
              "<Figure size 432x288 with 1 Axes>"
            ],
            "image/png": "[encoded data removed]"
          },
          "metadata": {
            "needs_background": "light"
          }
        }
      ]
    },
    {
      "cell_type": "markdown",
      "source": [
        "**SAVE DATA AS THE MIDI FILE**"
      ],
      "metadata": {
        "id": "tshPOqkCBfhU"
      }
    },
    {
      "cell_type": "code",
      "source": [
        "pip install MIDIFile"
      ],
      "metadata": {
        "colab": {
          "base_uri": "https://localhost:8080/"
        },
        "id": "XXEzFjsfB_xW",
        "outputId": "9b846f62-13c4-48da-9fe9-336b08568a17"
      },
      "execution_count": null,
      "outputs": [
        {
          "output_type": "stream",
          "name": "stdout",
          "text": [
            "Looking in indexes: https://pypi.org/simple, https://us-python.pkg.dev/colab-wheels/public/simple/\n",
            "Requirement already satisfied: MIDIFile in /usr/local/lib/python3.7/dist-packages (0.1.0)\n"
          ]
        }
      ]
    },
    {
      "cell_type": "code",
      "source": [
        "pip install midiutil"
      ],
      "metadata": {
        "colab": {
          "base_uri": "https://localhost:8080/"
        },
        "id": "ns8IoaGhDBZX",
        "outputId": "a00d3462-1fd8-4123-94f3-9bfce6367669"
      },
      "execution_count": null,
      "outputs": [
        {
          "output_type": "stream",
          "name": "stdout",
          "text": [
            "Looking in indexes: https://pypi.org/simple, https://us-python.pkg.dev/colab-wheels/public/simple/\n",
            "Requirement already satisfied: midiutil in /usr/local/lib/python3.7/dist-packages (1.2.1)\n"
          ]
        }
      ]
    },
    {
      "cell_type": "code",
      "source": [
        "from midiutil import MIDIFile #import library to make midi file, https://midiutil.readthedocs.io/en/1.2.1/\n",
        "    \n",
        "#create midi file object, add tempo\n",
        "bpm = 60 \n",
        "my_midi_file = MIDIFile(1) #one track \n",
        "my_midi_file.addTempo(track=0, time=0, tempo=bpm) \n",
        "\n",
        "#add midi notes\n",
        "for i in range(n_measurements):\n",
        "    my_midi_file.addNote(track=0, channel=0, pitch=midi_data[i], time=t_data.values[i], duration=2, volume=vel_data[i])\n",
        "\n",
        "#create and save the midi file itself\n",
        "with open('MUSICA' + '.mid', \"wb\") as f:\n",
        "    my_midi_file.writeFile(f) "
      ],
      "metadata": {
        "id": "G8ZnOqSZBkLB"
      },
      "execution_count": null,
      "outputs": []
    },
    {
      "cell_type": "code",
      "source": [],
      "metadata": {
        "id": "RYjp02hDCjqk"
      },
      "execution_count": null,
      "outputs": []
    },
    {
      "cell_type": "markdown",
      "source": [
        "**Listen to MIDI file within jupyter**"
      ],
      "metadata": {
        "id": "-g2Y7aNnCkKm"
      }
    },
    {
      "cell_type": "code",
      "source": [
        "# pip install mixer"
      ],
      "metadata": {
        "id": "EPFujt1QD2O-"
      },
      "execution_count": null,
      "outputs": []
    },
    {
      "cell_type": "code",
      "source": [
        "# pip install --quiet \"pygame\" "
      ],
      "metadata": {
        "id": "6Qx2lrZ9F8yE"
      },
      "execution_count": null,
      "outputs": []
    },
    {
      "cell_type": "code",
      "source": [
        "# pip install pygame"
      ],
      "metadata": {
        "id": "dLa0iGeYOAJ7"
      },
      "execution_count": null,
      "outputs": []
    },
    {
      "cell_type": "code",
      "source": [
        "# import sys \n",
        "# !{sys.executable} -m pip install --quiet \"pygame\"  #install pygame with pip\n",
        "# #or use this if you installed python with anaconda\n",
        "# #conda install --yes --prefix {sys.prefix} pygame\n",
        "\n",
        "# import pygame #import library for playing midi files, https://pypi.org/project/pygame/\n",
        "# from pygame import mixer"
      ],
      "metadata": {
        "id": "hyOGVBktClq-"
      },
      "execution_count": null,
      "outputs": []
    },
    {
      "cell_type": "code",
      "source": [
        "# pygame.init()\n",
        "# mixer.init()\n",
        "# sonido_fondo = pygame.mixer.Sound(\"/content/MUSICA.mid\")"
      ],
      "metadata": {
        "id": "im0y-gpwNc_W"
      },
      "execution_count": null,
      "outputs": []
    },
    {
      "cell_type": "code",
      "source": [
        "# from google.colab import drive\n",
        "# drive.mount('/content/drive')"
      ],
      "metadata": {
        "id": "07v6HsQiIRgY"
      },
      "execution_count": null,
      "outputs": []
    },
    {
      "cell_type": "code",
      "source": [
        "# pygame.mixer.music.stop()"
      ],
      "metadata": {
        "id": "_J9xUHMXDtM1"
      },
      "execution_count": null,
      "outputs": []
    }
  ]
}